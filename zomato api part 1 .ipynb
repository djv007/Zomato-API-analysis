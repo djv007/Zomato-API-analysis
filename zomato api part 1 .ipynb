{
 "cells": [
  {
   "cell_type": "code",
   "execution_count": 2,
   "metadata": {},
   "outputs": [],
   "source": [
    "\n",
    "import requests\n",
    "user_key = ''\n",
    "basic_api = 'https://developers.zomato.com/api/v2.1'\n",
    "##NOTE :- 1. All the results are here updated on 28-05-2020 . As these are generated from API , so results may not be same \n",
    "## if you run the code now .\n",
    "## 2. Also , due to integrity of the zomato api user key , it has been removed while uploading this file . Without it ,\n",
    "## no code will run ."
   ]
  },
  {
   "cell_type": "markdown",
   "metadata": {},
   "source": [
    "### 1.1 Fetched the cuisine_id of Mexican cuisine ."
   ]
  },
  {
   "cell_type": "code",
   "execution_count": 3,
   "metadata": {},
   "outputs": [
    {
     "name": "stdout",
     "output_type": "stream",
     "text": [
      "73\n"
     ]
    }
   ],
   "source": [
    "params = {'city_id' : 1}\n",
    "header = {'User-agent' : 'Mozilla/5.0 (Windows NT 10.0; Win64; x64; rv:76.0) Gecko/20100101 Firefox/76.0',\n",
    "           'Accept': 'application/json' , 'user-key' : user_key}\n",
    "response = requests.get(basic_api+'/cuisines' , headers = header , params = params)\n",
    "cuisine_id = 0\n",
    "for i in response.json().get('cuisines'):\n",
    "    if i.get('cuisine').get('cuisine_name') == 'Mexican':\n",
    "        cuisine_id = i.get('cuisine').get('cuisine_id')\n",
    "print(cuisine_id)"
   ]
  },
  {
   "cell_type": "markdown",
   "metadata": {},
   "source": [
    "### 1.2 Fetched the entityid and entitytype of place Connaught Place."
   ]
  },
  {
   "cell_type": "code",
   "execution_count": 4,
   "metadata": {},
   "outputs": [
    {
     "name": "stdout",
     "output_type": "stream",
     "text": [
      "subzone 104\n"
     ]
    }
   ],
   "source": [
    "params = {'query' : ' Connaught Place'}\n",
    "header = {'User-agent' : 'Mozilla/5.0 (Windows NT 10.0; Win64; x64; rv:76.0) Gecko/20100101 Firefox/76.0',\n",
    "           'Accept': 'application/json' , 'user-key' : user_key}\n",
    "response = requests.get(basic_api+'/locations' , headers = header , params = params)\n",
    "data = response.json()\n",
    "print(data['location_suggestions'][0]['entity_type'] , data['location_suggestions'][0]['entity_id'])\n",
    "   "
   ]
  },
  {
   "cell_type": "markdown",
   "metadata": {},
   "source": [
    "### 1.3 Top 10 best rated restaurants serving Mexican cuisine . "
   ]
  },
  {
   "cell_type": "code",
   "execution_count": 5,
   "metadata": {},
   "outputs": [],
   "source": [
    "params = { 'entity_id' : 104 , 'entity_type' : 'subzone' , 'count' : 10 , 'cuisines' : ['73'] , 'sort' : 'rating' , 'order' : 'desc'}\n",
    "header = {'User-agent' : 'Mozilla/5.0 (Windows NT 10.0; Win64; x64; rv:76.0) Gecko/20100101 Firefox/76.0',\n",
    "           'Accept': 'application/json' , 'user-key' : user_key}\n",
    "response = requests.get(basic_api+'/search' , headers = header , params = params)\n",
    "data = response.json()\n",
    "#data"
   ]
  },
  {
   "cell_type": "code",
   "execution_count": 6,
   "metadata": {},
   "outputs": [
    {
     "name": "stdout",
     "output_type": "stream",
     "text": [
      "38 Barracks 4.6 18241537\n",
      "Chili's Grill & Bar 4.6 18537536\n",
      "Ministry Of Beer 4.5 18418277\n",
      "Xero Degrees 4.4 18729557\n",
      "Farzi Cafe 4.3 18233593\n",
      "Bunta Bar Live 4.3 18623406\n",
      "Unplugged Courtyard 4.2 18216901\n",
      "Punjabi By Nature 4.2 306497\n",
      "Excuse Me Boss 4.2 307036\n",
      "The Art House Bar n Cafe 4.2 18863766\n"
     ]
    }
   ],
   "source": [
    "for d in data['restaurants']:\n",
    "     print(d['restaurant']['name'] ,d['restaurant']['user_rating']['aggregate_rating'] , d['restaurant']['id'] )"
   ]
  },
  {
   "cell_type": "markdown",
   "metadata": {},
   "source": [
    "### 1.4 Category id of category types \"Cafes\" . "
   ]
  },
  {
   "cell_type": "code",
   "execution_count": 7,
   "metadata": {},
   "outputs": [
    {
     "name": "stdout",
     "output_type": "stream",
     "text": [
      "6\n"
     ]
    }
   ],
   "source": [
    "header = {'User-agent' : 'Mozilla/5.0 (Windows NT 10.0; Win64; x64; rv:76.0) Gecko/20100101 Firefox/76.0',\n",
    "           'Accept': 'application/json' , 'user-key' : user_key}\n",
    "response = requests.get(basic_api+'/categories' , headers = header)\n",
    "data = response.json()\n",
    "for d in data['categories']:\n",
    "    if d['categories']['name'] == 'Cafes':\n",
    "        category_id = d['categories']['id']\n",
    "print(category_id)"
   ]
  },
  {
   "cell_type": "markdown",
   "metadata": {},
   "source": [
    "### 1.5 Fetch the best-rated restaurants based upon user - rating for ‘Mexican’ cuisine with category type ‘ Cafes’ present in Connaught Place."
   ]
  },
  {
   "cell_type": "code",
   "execution_count": 8,
   "metadata": {},
   "outputs": [],
   "source": [
    "header = {'User-agent' : 'Mozilla/5.0 (Windows NT 10.0; Win64; x64; rv:76.0) Gecko/20100101 Firefox/76.0',\n",
    "           'Accept': 'application/json' , 'user-key' : user_key}\n",
    "params = { 'entity_id' : 104 , 'entity_type' : 'subzone' , 'count' : 10 , 'cuisines' : ['73'] ,'category' : '6', 'sort' : 'rating' , 'order' : 'desc'}\n",
    "response = requests.get(basic_api+'/search' , headers = header , params = params)\n",
    "data = response.json()\n",
    "#data"
   ]
  },
  {
   "cell_type": "code",
   "execution_count": 9,
   "metadata": {},
   "outputs": [
    {
     "name": "stdout",
     "output_type": "stream",
     "text": [
      "Xero Degrees 4.4 18729557\n",
      "The Art House Bar n Cafe 4.2 18863766\n",
      "Cafe Delhi Heights 4.1 18579363\n",
      "Cafe Coffee Day - The Square 3.8 303034\n"
     ]
    }
   ],
   "source": [
    "for d in data['restaurants']:\n",
    "     print(d['restaurant']['name'] ,d['restaurant']['user_rating']['aggregate_rating'] , d['restaurant']['id'] )"
   ]
  },
  {
   "cell_type": "markdown",
   "metadata": {},
   "source": [
    "### 1.6 Fetch the latest review of the best-rated restaurant for ‘Mexican’ cuisine with Category type ‘Cafes’ present in Connaught Place"
   ]
  },
  {
   "cell_type": "code",
   "execution_count": 10,
   "metadata": {},
   "outputs": [],
   "source": [
    "header = {'User-agent' : 'Mozilla/5.0 (Windows NT 10.0; Win64; x64; rv:76.0) Gecko/20100101 Firefox/76.0',\n",
    "           'Accept': 'application/json' , 'user-key' : user_key}\n",
    "params = {'res_id' : 18729557}\n",
    "response = requests.get(basic_api+'/reviews' , headers = header , params = params)\n",
    "data = response.json()\n",
    "#data"
   ]
  },
  {
   "cell_type": "code",
   "execution_count": 11,
   "metadata": {},
   "outputs": [
    {
     "name": "stdout",
     "output_type": "stream",
     "text": [
      "Vasu Oberoi 4 That's one of the most pocket-friendly place to find in CP!  AMBIENCE- In my opinion, this is the only part of the whole review which goes slightly negative about the cafe. The ambience is a bit dull. Lighting and seating arrangements were too congested. Have a scope of improvement.   Back to the Business- FOOD!   Pizza Jar- This was the only thing we had there. The pizza jar had broken pieces of pizza base, pizza sauce, some cheese sauce and mozzarella, of course. The whole combination is baked from top in a glass jar. The concept is very unique in itself. Also, the taste of the pizza was amazing!   SERVICE- The people on the counter were nice and polite and heard the specifications as well. Hence, all points to them.\n",
      "Sush Dingra 4 If you're junk food lover so you should try this place. Xero degree have 3-4 branches in Delhi. In the menu you'll find so many new things. Like big bang burgers or popcorn shake like wise so many things. Jar pizza was my favourite moreover Chicken fries😍.\n",
      "Foodiliicious 4 Went here few months before in CP outlet.I tried white sauce pasta,oreo shake,pizza in jar,chocolate vanilla waffles and choco brownie freak shake.Everything was so yum.Must try choco brownie freak shake.\n",
      "Foodpsychs 5 Had the popcorn caramel freak shake. Was really amazing. Totally value for money.\n",
      "Crispy Cluck 5 Very good like i like! Tasty food and a good customer service. Better place to try a french fries.\n"
     ]
    }
   ],
   "source": [
    "#data['user_reviews'][0]['review']\n",
    "for d in data['user_reviews']:\n",
    "    print(d['review']['user']['name'] , d['review']['rating'] , d['review']['review_text'])\n",
    "    "
   ]
  },
  {
   "cell_type": "markdown",
   "metadata": {},
   "source": [
    "### 2.1 Fetch the details of restaurant 736 AD user_rating  avg cost for two , cuisines  , address . \n"
   ]
  },
  {
   "cell_type": "code",
   "execution_count": 12,
   "metadata": {},
   "outputs": [],
   "source": [
    "header = {'User-agent' : 'Mozilla/5.0 (Windows NT 10.0; Win64; x64; rv:76.0) Gecko/20100101 Firefox/76.0',\n",
    "           'Accept': 'application/json' , 'user-key' : user_key}\n",
    "params = {'res_id' : 18241524}\n",
    "response = requests.get(basic_api+'/restaurant' , headers = header , params = params)\n",
    "data = response.json()\n",
    "#data"
   ]
  },
  {
   "cell_type": "code",
   "execution_count": 13,
   "metadata": {},
   "outputs": [
    {
     "name": "stdout",
     "output_type": "stream",
     "text": [
      "4.3\n",
      "1400\n",
      "North Indian, Continental, Italian, Chinese\n",
      "G-15/B, Vijay Nagar, New Delhi\n"
     ]
    }
   ],
   "source": [
    "print(data['user_rating']['aggregate_rating'])\n",
    "print(data['average_cost_for_two'])\n",
    "print(data['cuisines'])\n",
    "print(data['location']['address'])"
   ]
  },
  {
   "cell_type": "markdown",
   "metadata": {},
   "source": [
    "### 2.2 Find out whether online table reservation is supported in 736 AD restaurant or not."
   ]
  },
  {
   "cell_type": "code",
   "execution_count": 14,
   "metadata": {},
   "outputs": [
    {
     "name": "stdout",
     "output_type": "stream",
     "text": [
      "no\n"
     ]
    }
   ],
   "source": [
    "header = {'User-agent' : 'Mozilla/5.0 (Windows NT 10.0; Win64; x64; rv:76.0) Gecko/20100101 Firefox/76.0',\n",
    "           'Accept': 'application/json' , 'user-key' : user_key}\n",
    "params = {'res_id' : 18241524}\n",
    "response = requests.get(basic_api+'/restaurant' , headers = header , params = params)\n",
    "data = response.json()\n",
    "#data\n",
    "if data['is_table_reservation_supported'] == 0:\n",
    "    print('no')\n",
    "else:\n",
    "    print('yes')"
   ]
  },
  {
   "cell_type": "markdown",
   "metadata": {},
   "source": [
    "### 2.3 Fetch the latest review of restaurant 736 AD"
   ]
  },
  {
   "cell_type": "code",
   "execution_count": 15,
   "metadata": {},
   "outputs": [],
   "source": [
    "header = {'User-agent' : 'Mozilla/5.0 (Windows NT 10.0; Win64; x64; rv:76.0) Gecko/20100101 Firefox/76.0',\n",
    "           'Accept': 'application/json' , 'user-key' : user_key}\n",
    "params = {'res_id' : 18241524}\n",
    "response = requests.get(basic_api+'/reviews' , headers = header , params = params)\n",
    "data = response.json()\n",
    "#data"
   ]
  },
  {
   "cell_type": "code",
   "execution_count": 16,
   "metadata": {},
   "outputs": [
    {
     "name": "stdout",
     "output_type": "stream",
     "text": [
      "Highovermeals 4 I had a very good time regarding the drinks at 736 A.D . It had good soft music with decent ambience but the staff there was a little bit distracted from the work . Well it's just an opinion no personal grudges . You should surely pay a visit to enjoy drinks at genuine rates 🥃\n",
      "Palak Sharma 4 \n",
      "Ankita Sharma | Geographyedible 😎✌️ 5 All time favourite place ♥️💝\n",
      "Lavanya Kv 4 \n",
      "Foodieszonee 4 It’s a very nice place to hangout and has a very nice ambience, great dj and the food was very good must try white sauce pasta.  Good and fast service also reasonable price.\n"
     ]
    }
   ],
   "source": [
    "for d in data['user_reviews']:\n",
    "    print(d['review']['user']['name'] , d['review']['rating'] , d['review']['review_text'])\n",
    "       "
   ]
  },
  {
   "cell_type": "markdown",
   "metadata": {},
   "source": [
    "### 3.1 Fetch the cuisine_id of of cuisine ‘BBQ’ ."
   ]
  },
  {
   "cell_type": "code",
   "execution_count": 17,
   "metadata": {},
   "outputs": [
    {
     "name": "stdout",
     "output_type": "stream",
     "text": [
      "193\n"
     ]
    }
   ],
   "source": [
    "params = {'city_id' : 1}\n",
    "header = {'User-agent' : 'Mozilla/5.0 (Windows NT 10.0; Win64; x64; rv:76.0) Gecko/20100101 Firefox/76.0',\n",
    "           'Accept': 'application/json' , 'user-key' : user_key}\n",
    "response = requests.get(basic_api+'/cuisines' , headers = header , params = params)\n",
    "cuisine_id = 0\n",
    "for i in response.json().get('cuisines'):\n",
    "    if i.get('cuisine').get('cuisine_name') == 'BBQ':\n",
    "        cuisine_id = i.get('cuisine').get('cuisine_id')\n",
    "print(cuisine_id)"
   ]
  },
  {
   "cell_type": "markdown",
   "metadata": {},
   "source": [
    "### 3.2 Fetch the list of the top 10 restaurants serving cuisine ‘BBQ’ which are nearest to Coding Ninjas ."
   ]
  },
  {
   "cell_type": "code",
   "execution_count": 18,
   "metadata": {},
   "outputs": [],
   "source": [
    "## lat : 28.697682  lon : 77.140674\n",
    "params = {'lat' : 28.697682 , 'lon' : 77.140674 ,'count' : 10 , 'cuisines' : ['193'] , 'sort' : 'real_distance' , 'order' : 'asc'}\n",
    "header = {'User-agent' : 'Mozilla/5.0 (Windows NT 10.0; Win64; x64; rv:76.0) Gecko/20100101 Firefox/76.0',\n",
    "           'Accept': 'application/json' , 'user-key' : user_key}\n",
    "response = requests.get(basic_api+'/search' , headers = header , params = params)\n",
    "data = response.json()\n",
    "#data"
   ]
  },
  {
   "cell_type": "code",
   "execution_count": 19,
   "metadata": {},
   "outputs": [
    {
     "name": "stdout",
     "output_type": "stream",
     "text": [
      "Themis Barbecue House 4.5 18204820 Netaji Subhash Place\n",
      "Barbeque Nation 4.1 9561 Netaji Subhash Place\n",
      "New Bombay Bar-Be-Que 3.6 5303 Prashant Vihar\n",
      "Amazings Kitchen 0 19370424 Prashant Vihar\n",
      "Moet's Barbeque 0 19238917 Alipur\n",
      "UBQ by Barbeque Nation 3.8 18889760 Rohini\n",
      "Kays Bar-Be-Que 3.8 3079 Ashok Vihar Phase 1\n",
      "Chicken Adda 0 19179179 Rohini\n",
      "7teen BBQ Bistro Bnq 3.8 18595610 Moti Nagar\n",
      "Pishori Chicken 0 19061375 Kirti Nagar\n"
     ]
    }
   ],
   "source": [
    "for d in data['restaurants']:\n",
    "     print(d['restaurant']['name'] ,d['restaurant']['user_rating']['aggregate_rating'] , d['restaurant']['id'] , d['restaurant']['location']['locality'] )"
   ]
  },
  {
   "cell_type": "markdown",
   "metadata": {},
   "source": [
    "### 3.3 Fetch the latest review ( user_name , rating , review_text)  of the restaurant serving cuisine ‘BBQ’ which is most nearest to Coding ninjas.\n"
   ]
  },
  {
   "cell_type": "code",
   "execution_count": 20,
   "metadata": {},
   "outputs": [],
   "source": [
    "header = {'User-agent' : 'Mozilla/5.0 (Windows NT 10.0; Win64; x64; rv:76.0) Gecko/20100101 Firefox/76.0',\n",
    "           'Accept': 'application/json' , 'user-key' : user_key}\n",
    "params = {'res_id' : 18204820}\n",
    "response = requests.get(basic_api+'/reviews' , headers = header , params = params)\n",
    "data = response.json()\n",
    "#data"
   ]
  },
  {
   "cell_type": "code",
   "execution_count": 21,
   "metadata": {},
   "outputs": [
    {
     "name": "stdout",
     "output_type": "stream",
     "text": [
      "ANNANT VASHIST 5 I celebrated my bday in Themis barbecue . I enjoyed a lot and the staff was really good nd the food is very delicious .\n",
      "Sangeeta Kalita (thatcravingfoodie) 4 Visited them last month. On entering, you realise that the indoor seating area is not that spacious. I wanted to be seated outdoors, but then it's only allowed for dinner time. I wasn't very taken by the ambiance.  Coming to the food, I opted for the non-vegetarian buffet option. For drinks, I chose a litchi based mocktail. You could also go for beer or whisky which I think I should have chosen too, now that I think of it. But there's no use crying over spilled milk now. So coming back to my litchi mocktail, let me say it was awesome. Tart and sweet and zingy. Was a pleasant accompaniment to the starters. I really liked the chilly fish, chicken tikka, crispy corn. Cajun potatoes lacked that kick and mutton seekh was really dry. The paneer tikka too wasn't flavourful enough. And the pizza base was very tough.  The main course was so delicious. I am a manchow soup lover. And I helped myself to bowls of the veg manchow soup. Then I came across chicken hot and sour soup and gobbled that up too. I also tried different salads I think you could and should skip them. The chicken biryani and mutton rogan josh warmed up my soul with their distinctly spiced flavours. The biryani deserves special mention with the overwhelming aroma of whole spices and chunky chicken pieces. The rogan josh curry was hot and spicy and I was satisfied then and there. Nevertheless, greed occupied me again while going through other dishes and this time I helped myself to hakka chowmein and stir fried veggies in basil chilly sauce (yeah it's veg. Don't be surprised). The veggie gravy was utterly savoury and had so much going on. Sweet, sour, salty, that fresh basil hit. And by then I realised I was almost full and had to end my main course eating spree.  Coming to desserts, gulab jamuns were soul warming. The chocolate pastry was lush and bitter and kept me wanting more. The tarts were creamy and crumbley. Delicious. Moong dal halwa was all ghee and nuts and heavenly. And the strawberry ice cream was creamy and screamed fresh strawberries and not the artificial colour and flavour stuff.  Overall, it was a decent experience. Although I think cutting out the live music part during afternoons wouldn't be a bad idea afterall. It felt kinda loud and claustrophobic. The service was not bad. The prices were moderate. I paid 1300+ for two non-veg lunch buffets.\n",
      "Medhavi 5 Enjoyed a wide range of dishes at this buffet outlet with aesthetic interiors and designer exteriors. Scrumptious barbeque starters with grilled chicken,fish tikka in skewers on the table. Sipped on a variety of mocktails plus the singer was there to entertain throughout our time there. The main course dishes were made very well with excellent sea food, dum biryani , paneer dishes, types of breads and exquisite desserts to choose from namely white chocolate brownie , pineapple pastries , truffle cake and cut fruits. Would definitely recommend to one and all.\n",
      "Piyush Matreja 5 Live singing, spectacular ambience and every one enjoying to the grilled kebabs on their table, that's Themis barbeque all about. Based on the concept of buffet where you start with snacks on the table with cool mocktails. I tried the lemon ice tea and charred prawns tikka as well as chicken malai tikka ,their non veg starters were great. Main course I had mutton rogan josh with lachha parantha and enjoyed a few of my favourite desserts namely strawberry tarts and a chocolate truffle cake with cherries. I must say that was a good lunch I relished after long.\n",
      "Kimaya Divya 5 A place offering a buffet concept in the northern part of Delhi, with live music , a dj set up, comfortable seating. They have a set up of a grill hot plate with food grilled on skewers. We opted for non veg set up and ate prawns , chicken malai tikka , tandoori chicken in the hot portion, while chilly fish ,pizzas and mutton seekh kebab were served separately. The main course had lots of variety with dal Makhani, paneer kadhai , mix vegetable, chicken pilaf ,mutton rogan josh. The restaurant did their level best and made our time a memorable one.\n"
     ]
    }
   ],
   "source": [
    "for d in data['user_reviews']:\n",
    "    print(d['review']['user']['name'] , d['review']['rating'] , d['review']['review_text'])\n",
    "       "
   ]
  },
  {
   "cell_type": "markdown",
   "metadata": {},
   "source": [
    "### 3.4 Fetch the list of top 10 best-restaurant present in a radius of 4 km of coding ninjas."
   ]
  },
  {
   "cell_type": "code",
   "execution_count": 22,
   "metadata": {},
   "outputs": [],
   "source": [
    "## lat : 28.697682  lon : 77.140674\n",
    "params = {'lat' : 28.697682 , 'lon' : 77.140674 ,'radius' : 4000 , 'count' : 10 , 'sort' : 'rating' , 'order' : 'desc'}\n",
    "header = {'User-agent' : 'Mozilla/5.0 (Windows NT 10.0; Win64; x64; rv:76.0) Gecko/20100101 Firefox/76.0',\n",
    "           'Accept': 'application/json' , 'user-key' : user_key}\n",
    "response = requests.get(basic_api+'/search' , headers = header , params = params)\n",
    "data = response.json()\n",
    "#data"
   ]
  },
  {
   "cell_type": "code",
   "execution_count": 23,
   "metadata": {},
   "outputs": [
    {
     "name": "stdout",
     "output_type": "stream",
     "text": [
      "Ah So Yum 4.9 18945610 Golf Course Road\n",
      "Son Of A Bun 4.9 19300210 Golf Course Road\n",
      "Oishii Wok 4.9 19078918 DLF Phase 4\n",
      "Dana Choga 4.9 549 Sector 14\n",
      "Indian Accent 4.9 2004 The Lodhi, Lodhi Road\n",
      "Chili's Grill & Bar 4.9 18607069 Pacific Mall, Tagore Garden\n",
      "Nomad Pizza - Traveller Series 4.9 19296958 DLF Phase 4\n",
      "Master Koii's 4.8 18819947 Sushant Lok\n",
      "Cafe Wink 4.8 7224 Anand Vihar\n",
      "Chili's Grill & Bar 4.8 4751 Ambience Mall, Vasant Kunj\n"
     ]
    }
   ],
   "source": [
    "for d in data['restaurants']:\n",
    "     print(d['restaurant']['name'] ,d['restaurant']['user_rating']['aggregate_rating'] , d['restaurant']['id'] , d['restaurant']['location']['locality'] )"
   ]
  }
 ],
 "metadata": {
  "kernelspec": {
   "display_name": "Python 3",
   "language": "python",
   "name": "python3"
  },
  "language_info": {
   "codemirror_mode": {
    "name": "ipython",
    "version": 3
   },
   "file_extension": ".py",
   "mimetype": "text/x-python",
   "name": "python",
   "nbconvert_exporter": "python",
   "pygments_lexer": "ipython3",
   "version": "3.7.3"
  }
 },
 "nbformat": 4,
 "nbformat_minor": 2
}
